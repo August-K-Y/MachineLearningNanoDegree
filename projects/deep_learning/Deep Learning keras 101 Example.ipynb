{
 "cells": [
  {
   "cell_type": "code",
   "execution_count": 31,
   "metadata": {},
   "outputs": [],
   "source": [
    "    import numpy as np\n",
    "    from keras.models import Sequential\n",
    "    from keras.layers.core import Dense, Activation\n",
    "\n",
    "    # X has shape (num_rows, num_cols), where the training data are stored\n",
    "    # as row vectors\n",
    "    X = np.array([[0, 0], [0, 1], [1, 0], [1, 1]], dtype=np.float32)\n",
    "\n",
    "    # y must have an output vector for each input vector\n",
    "    y = np.array([[0], [0], [0], [1]], dtype=np.float32)\n",
    "\n",
    "    # Create the Sequential model\n",
    "    model = Sequential()\n",
    "\n",
    "    # 1st Layer - Add an input layer of 32 nodes with the same input shape as\n",
    "    # the training samples in X\n",
    "    model.add(Dense(32, input_dim=X.shape[1]))\n",
    "\n",
    "    # Add a softmax activation layer\n",
    "    model.add(Activation('softmax'))\n",
    "\n",
    "    # 2nd Layer - Add a fully connected output layer\n",
    "    model.add(Dense(1))\n",
    "\n",
    "    # Add a sigmoid activation layer\n",
    "    model.add(Activation('sigmoid'))"
   ]
  },
  {
   "cell_type": "code",
   "execution_count": 32,
   "metadata": {
    "collapsed": true
   },
   "outputs": [],
   "source": [
    "model.compile(loss=\"binary_crossentropy\", optimizer=\"adam\", metrics = [\"accuracy\"])"
   ]
  },
  {
   "cell_type": "code",
   "execution_count": 33,
   "metadata": {},
   "outputs": [
    {
     "name": "stdout",
     "output_type": "stream",
     "text": [
      "_________________________________________________________________\n",
      "Layer (type)                 Output Shape              Param #   \n",
      "=================================================================\n",
      "dense_15 (Dense)             (None, 32)                96        \n",
      "_________________________________________________________________\n",
      "activation_13 (Activation)   (None, 32)                0         \n",
      "_________________________________________________________________\n",
      "dense_16 (Dense)             (None, 1)                 33        \n",
      "_________________________________________________________________\n",
      "activation_14 (Activation)   (None, 1)                 0         \n",
      "=================================================================\n",
      "Total params: 129\n",
      "Trainable params: 129\n",
      "Non-trainable params: 0\n",
      "_________________________________________________________________\n"
     ]
    }
   ],
   "source": [
    "model.summary()"
   ]
  },
  {
   "cell_type": "code",
   "execution_count": 12,
   "metadata": {},
   "outputs": [
    {
     "data": {
      "text/plain": [
       "<keras.callbacks.History at 0x119979ad0>"
      ]
     },
     "execution_count": 12,
     "metadata": {},
     "output_type": "execute_result"
    }
   ],
   "source": [
    "model.fit(X, y, nb_epoch=1000, verbose=0)"
   ]
  },
  {
   "cell_type": "code",
   "execution_count": 16,
   "metadata": {},
   "outputs": [
    {
     "name": "stdout",
     "output_type": "stream",
     "text": [
      "4/4 [==============================] - 0s\n",
      "1.0\n"
     ]
    }
   ],
   "source": [
    "score = model.evaluate(X, y)\n",
    "print score[-1]"
   ]
  },
  {
   "cell_type": "code",
   "execution_count": null,
   "metadata": {
    "collapsed": true
   },
   "outputs": [],
   "source": []
  }
 ],
 "metadata": {
  "kernelspec": {
   "display_name": "Python 2",
   "language": "python",
   "name": "python2"
  },
  "language_info": {
   "codemirror_mode": {
    "name": "ipython",
    "version": 2
   },
   "file_extension": ".py",
   "mimetype": "text/x-python",
   "name": "python",
   "nbconvert_exporter": "python",
   "pygments_lexer": "ipython2",
   "version": "2.7.13"
  }
 },
 "nbformat": 4,
 "nbformat_minor": 2
}
